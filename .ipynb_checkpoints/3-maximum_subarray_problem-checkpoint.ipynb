{
 "cells": [
  {
   "cell_type": "code",
   "execution_count": 23,
   "id": "d11f2af2",
   "metadata": {},
   "outputs": [],
   "source": [
    "import math\n",
    "\n",
    "def max_crossing_subarray(A, low, mid, high):\n",
    "    print(\"Finding cross sum : low, mid, high\",low, mid, high)\n",
    "    left_sum = -math.inf\n",
    "    sum = 0\n",
    "\n",
    "    for i in range(mid, low + 1, -1):\n",
    "        print(\"here\")\n",
    "        sum = sum + A[i]\n",
    "        print(\"sum\", sum)\n",
    "        if sum > left_sum:\n",
    "            left_sum = sum\n",
    "            max_left = i\n",
    "            print(\"left sum \", left_sum)\n",
    "    right_sum = -math.inf\n",
    "    sum = 0\n",
    "    for j in range(mid + 1, high + 1):\n",
    "        sum = sum + A[j]\n",
    "        if sum > right_sum:\n",
    "            right_sum = sum\n",
    "            max_right = j\n",
    "            \n",
    "    return (max_left, max_right, left_sum + right_sum)\n",
    "\n",
    "def maximum_subarray(A, low, high):\n",
    "    if high == low:\n",
    "        return (low, high, A[low])\n",
    "    else: \n",
    "        print(\"low\", low)\n",
    "        print(\"high\", high)\n",
    "        mid = math.floor((low + high)/2)\n",
    "        print(\"mid\", mid)\n",
    "        left_low, left_high, left_sum = maximum_subarray(A, low, mid)\n",
    "        right_low, right_high, right_sum = maximum_subarray(A, mid + 1, high)\n",
    "        cross_low, cross_high, cross_sum = max_crossing_subarray(A, low, mid, high)\n",
    "        \n",
    "        if left_sum >= right_sum and left_sum >= cross_sum:\n",
    "            return (left_low, left_high, left_sum)\n",
    "        elif right_sum >= left_sum and right_sum >= cross_sum:\n",
    "            return (right_low, right_high, right_sum)\n",
    "        else:\n",
    "            return (cross_low, cross_high, cross_sum)\n",
    "        \n"
   ]
  },
  {
   "cell_type": "code",
   "execution_count": 24,
   "id": "3f13aba5",
   "metadata": {},
   "outputs": [
    {
     "name": "stdout",
     "output_type": "stream",
     "text": [
      "low 0\n",
      "high 6\n",
      "mid 3\n",
      "low 0\n",
      "high 3\n",
      "mid 1\n",
      "low 0\n",
      "high 1\n",
      "mid 0\n",
      "Finding cross sum : low, mid, high 0 0 1\n",
      "here\n"
     ]
    },
    {
     "ename": "UnboundLocalError",
     "evalue": "local variable 'max_left' referenced before assignment",
     "output_type": "error",
     "traceback": [
      "\u001b[1;31m---------------------------------------------------------------------------\u001b[0m",
      "\u001b[1;31mUnboundLocalError\u001b[0m                         Traceback (most recent call last)",
      "\u001b[1;32m~\\AppData\\Local\\Temp/ipykernel_15536/1781675673.py\u001b[0m in \u001b[0;36m<module>\u001b[1;34m\u001b[0m\n\u001b[0;32m      1\u001b[0m \u001b[0mA\u001b[0m \u001b[1;33m=\u001b[0m \u001b[1;33m[\u001b[0m\u001b[1;33m-\u001b[0m\u001b[1;36m5\u001b[0m\u001b[1;33m,\u001b[0m\u001b[1;36m1\u001b[0m\u001b[1;33m,\u001b[0m\u001b[1;36m2\u001b[0m\u001b[1;33m,\u001b[0m\u001b[1;36m9\u001b[0m\u001b[1;33m,\u001b[0m\u001b[1;33m-\u001b[0m\u001b[1;36m5\u001b[0m\u001b[1;33m,\u001b[0m\u001b[1;36m8\u001b[0m\u001b[1;33m]\u001b[0m\u001b[1;33m\u001b[0m\u001b[1;33m\u001b[0m\u001b[0m\n\u001b[1;32m----> 2\u001b[1;33m \u001b[0mlow\u001b[0m\u001b[1;33m,\u001b[0m \u001b[0mhigh\u001b[0m\u001b[1;33m,\u001b[0m \u001b[0msum\u001b[0m \u001b[1;33m=\u001b[0m \u001b[0mmaximum_subarray\u001b[0m\u001b[1;33m(\u001b[0m\u001b[0mA\u001b[0m\u001b[1;33m,\u001b[0m \u001b[1;36m0\u001b[0m\u001b[1;33m,\u001b[0m \u001b[0mlen\u001b[0m\u001b[1;33m(\u001b[0m\u001b[0mA\u001b[0m\u001b[1;33m)\u001b[0m\u001b[1;33m)\u001b[0m\u001b[1;33m\u001b[0m\u001b[1;33m\u001b[0m\u001b[0m\n\u001b[0m\u001b[0;32m      3\u001b[0m \u001b[0mprint\u001b[0m\u001b[1;33m(\u001b[0m\u001b[1;34m\"Indices are (\"\u001b[0m \u001b[1;33m+\u001b[0m \u001b[0mlow\u001b[0m \u001b[1;33m+\u001b[0m \u001b[1;34m\",\"\u001b[0m \u001b[1;33m+\u001b[0m \u001b[0mhigh\u001b[0m \u001b[1;33m+\u001b[0m \u001b[1;34m\") and sum is \"\u001b[0m \u001b[1;33m+\u001b[0m \u001b[0msum\u001b[0m\u001b[1;33m)\u001b[0m\u001b[1;33m\u001b[0m\u001b[1;33m\u001b[0m\u001b[0m\n",
      "\u001b[1;32m~\\AppData\\Local\\Temp/ipykernel_15536/1742752827.py\u001b[0m in \u001b[0;36mmaximum_subarray\u001b[1;34m(A, low, high)\u001b[0m\n\u001b[0;32m     32\u001b[0m         \u001b[0mmid\u001b[0m \u001b[1;33m=\u001b[0m \u001b[0mmath\u001b[0m\u001b[1;33m.\u001b[0m\u001b[0mfloor\u001b[0m\u001b[1;33m(\u001b[0m\u001b[1;33m(\u001b[0m\u001b[0mlow\u001b[0m \u001b[1;33m+\u001b[0m \u001b[0mhigh\u001b[0m\u001b[1;33m)\u001b[0m\u001b[1;33m/\u001b[0m\u001b[1;36m2\u001b[0m\u001b[1;33m)\u001b[0m\u001b[1;33m\u001b[0m\u001b[1;33m\u001b[0m\u001b[0m\n\u001b[0;32m     33\u001b[0m         \u001b[0mprint\u001b[0m\u001b[1;33m(\u001b[0m\u001b[1;34m\"mid\"\u001b[0m\u001b[1;33m,\u001b[0m \u001b[0mmid\u001b[0m\u001b[1;33m)\u001b[0m\u001b[1;33m\u001b[0m\u001b[1;33m\u001b[0m\u001b[0m\n\u001b[1;32m---> 34\u001b[1;33m         \u001b[0mleft_low\u001b[0m\u001b[1;33m,\u001b[0m \u001b[0mleft_high\u001b[0m\u001b[1;33m,\u001b[0m \u001b[0mleft_sum\u001b[0m \u001b[1;33m=\u001b[0m \u001b[0mmaximum_subarray\u001b[0m\u001b[1;33m(\u001b[0m\u001b[0mA\u001b[0m\u001b[1;33m,\u001b[0m \u001b[0mlow\u001b[0m\u001b[1;33m,\u001b[0m \u001b[0mmid\u001b[0m\u001b[1;33m)\u001b[0m\u001b[1;33m\u001b[0m\u001b[1;33m\u001b[0m\u001b[0m\n\u001b[0m\u001b[0;32m     35\u001b[0m         \u001b[0mright_low\u001b[0m\u001b[1;33m,\u001b[0m \u001b[0mright_high\u001b[0m\u001b[1;33m,\u001b[0m \u001b[0mright_sum\u001b[0m \u001b[1;33m=\u001b[0m \u001b[0mmaximum_subarray\u001b[0m\u001b[1;33m(\u001b[0m\u001b[0mA\u001b[0m\u001b[1;33m,\u001b[0m \u001b[0mmid\u001b[0m \u001b[1;33m+\u001b[0m \u001b[1;36m1\u001b[0m\u001b[1;33m,\u001b[0m \u001b[0mhigh\u001b[0m\u001b[1;33m)\u001b[0m\u001b[1;33m\u001b[0m\u001b[1;33m\u001b[0m\u001b[0m\n\u001b[0;32m     36\u001b[0m         \u001b[0mcross_low\u001b[0m\u001b[1;33m,\u001b[0m \u001b[0mcross_high\u001b[0m\u001b[1;33m,\u001b[0m \u001b[0mcross_sum\u001b[0m \u001b[1;33m=\u001b[0m \u001b[0mmax_crossing_subarray\u001b[0m\u001b[1;33m(\u001b[0m\u001b[0mA\u001b[0m\u001b[1;33m,\u001b[0m \u001b[0mlow\u001b[0m\u001b[1;33m,\u001b[0m \u001b[0mmid\u001b[0m\u001b[1;33m,\u001b[0m \u001b[0mhigh\u001b[0m\u001b[1;33m)\u001b[0m\u001b[1;33m\u001b[0m\u001b[1;33m\u001b[0m\u001b[0m\n",
      "\u001b[1;32m~\\AppData\\Local\\Temp/ipykernel_15536/1742752827.py\u001b[0m in \u001b[0;36mmaximum_subarray\u001b[1;34m(A, low, high)\u001b[0m\n\u001b[0;32m     32\u001b[0m         \u001b[0mmid\u001b[0m \u001b[1;33m=\u001b[0m \u001b[0mmath\u001b[0m\u001b[1;33m.\u001b[0m\u001b[0mfloor\u001b[0m\u001b[1;33m(\u001b[0m\u001b[1;33m(\u001b[0m\u001b[0mlow\u001b[0m \u001b[1;33m+\u001b[0m \u001b[0mhigh\u001b[0m\u001b[1;33m)\u001b[0m\u001b[1;33m/\u001b[0m\u001b[1;36m2\u001b[0m\u001b[1;33m)\u001b[0m\u001b[1;33m\u001b[0m\u001b[1;33m\u001b[0m\u001b[0m\n\u001b[0;32m     33\u001b[0m         \u001b[0mprint\u001b[0m\u001b[1;33m(\u001b[0m\u001b[1;34m\"mid\"\u001b[0m\u001b[1;33m,\u001b[0m \u001b[0mmid\u001b[0m\u001b[1;33m)\u001b[0m\u001b[1;33m\u001b[0m\u001b[1;33m\u001b[0m\u001b[0m\n\u001b[1;32m---> 34\u001b[1;33m         \u001b[0mleft_low\u001b[0m\u001b[1;33m,\u001b[0m \u001b[0mleft_high\u001b[0m\u001b[1;33m,\u001b[0m \u001b[0mleft_sum\u001b[0m \u001b[1;33m=\u001b[0m \u001b[0mmaximum_subarray\u001b[0m\u001b[1;33m(\u001b[0m\u001b[0mA\u001b[0m\u001b[1;33m,\u001b[0m \u001b[0mlow\u001b[0m\u001b[1;33m,\u001b[0m \u001b[0mmid\u001b[0m\u001b[1;33m)\u001b[0m\u001b[1;33m\u001b[0m\u001b[1;33m\u001b[0m\u001b[0m\n\u001b[0m\u001b[0;32m     35\u001b[0m         \u001b[0mright_low\u001b[0m\u001b[1;33m,\u001b[0m \u001b[0mright_high\u001b[0m\u001b[1;33m,\u001b[0m \u001b[0mright_sum\u001b[0m \u001b[1;33m=\u001b[0m \u001b[0mmaximum_subarray\u001b[0m\u001b[1;33m(\u001b[0m\u001b[0mA\u001b[0m\u001b[1;33m,\u001b[0m \u001b[0mmid\u001b[0m \u001b[1;33m+\u001b[0m \u001b[1;36m1\u001b[0m\u001b[1;33m,\u001b[0m \u001b[0mhigh\u001b[0m\u001b[1;33m)\u001b[0m\u001b[1;33m\u001b[0m\u001b[1;33m\u001b[0m\u001b[0m\n\u001b[0;32m     36\u001b[0m         \u001b[0mcross_low\u001b[0m\u001b[1;33m,\u001b[0m \u001b[0mcross_high\u001b[0m\u001b[1;33m,\u001b[0m \u001b[0mcross_sum\u001b[0m \u001b[1;33m=\u001b[0m \u001b[0mmax_crossing_subarray\u001b[0m\u001b[1;33m(\u001b[0m\u001b[0mA\u001b[0m\u001b[1;33m,\u001b[0m \u001b[0mlow\u001b[0m\u001b[1;33m,\u001b[0m \u001b[0mmid\u001b[0m\u001b[1;33m,\u001b[0m \u001b[0mhigh\u001b[0m\u001b[1;33m)\u001b[0m\u001b[1;33m\u001b[0m\u001b[1;33m\u001b[0m\u001b[0m\n",
      "\u001b[1;32m~\\AppData\\Local\\Temp/ipykernel_15536/1742752827.py\u001b[0m in \u001b[0;36mmaximum_subarray\u001b[1;34m(A, low, high)\u001b[0m\n\u001b[0;32m     34\u001b[0m         \u001b[0mleft_low\u001b[0m\u001b[1;33m,\u001b[0m \u001b[0mleft_high\u001b[0m\u001b[1;33m,\u001b[0m \u001b[0mleft_sum\u001b[0m \u001b[1;33m=\u001b[0m \u001b[0mmaximum_subarray\u001b[0m\u001b[1;33m(\u001b[0m\u001b[0mA\u001b[0m\u001b[1;33m,\u001b[0m \u001b[0mlow\u001b[0m\u001b[1;33m,\u001b[0m \u001b[0mmid\u001b[0m\u001b[1;33m)\u001b[0m\u001b[1;33m\u001b[0m\u001b[1;33m\u001b[0m\u001b[0m\n\u001b[0;32m     35\u001b[0m         \u001b[0mright_low\u001b[0m\u001b[1;33m,\u001b[0m \u001b[0mright_high\u001b[0m\u001b[1;33m,\u001b[0m \u001b[0mright_sum\u001b[0m \u001b[1;33m=\u001b[0m \u001b[0mmaximum_subarray\u001b[0m\u001b[1;33m(\u001b[0m\u001b[0mA\u001b[0m\u001b[1;33m,\u001b[0m \u001b[0mmid\u001b[0m \u001b[1;33m+\u001b[0m \u001b[1;36m1\u001b[0m\u001b[1;33m,\u001b[0m \u001b[0mhigh\u001b[0m\u001b[1;33m)\u001b[0m\u001b[1;33m\u001b[0m\u001b[1;33m\u001b[0m\u001b[0m\n\u001b[1;32m---> 36\u001b[1;33m         \u001b[0mcross_low\u001b[0m\u001b[1;33m,\u001b[0m \u001b[0mcross_high\u001b[0m\u001b[1;33m,\u001b[0m \u001b[0mcross_sum\u001b[0m \u001b[1;33m=\u001b[0m \u001b[0mmax_crossing_subarray\u001b[0m\u001b[1;33m(\u001b[0m\u001b[0mA\u001b[0m\u001b[1;33m,\u001b[0m \u001b[0mlow\u001b[0m\u001b[1;33m,\u001b[0m \u001b[0mmid\u001b[0m\u001b[1;33m,\u001b[0m \u001b[0mhigh\u001b[0m\u001b[1;33m)\u001b[0m\u001b[1;33m\u001b[0m\u001b[1;33m\u001b[0m\u001b[0m\n\u001b[0m\u001b[0;32m     37\u001b[0m \u001b[1;33m\u001b[0m\u001b[0m\n\u001b[0;32m     38\u001b[0m         \u001b[1;32mif\u001b[0m \u001b[0mleft_sum\u001b[0m \u001b[1;33m>=\u001b[0m \u001b[0mright_sum\u001b[0m \u001b[1;32mand\u001b[0m \u001b[0mleft_sum\u001b[0m \u001b[1;33m>=\u001b[0m \u001b[0mcross_sum\u001b[0m\u001b[1;33m:\u001b[0m\u001b[1;33m\u001b[0m\u001b[1;33m\u001b[0m\u001b[0m\n",
      "\u001b[1;32m~\\AppData\\Local\\Temp/ipykernel_15536/1742752827.py\u001b[0m in \u001b[0;36mmax_crossing_subarray\u001b[1;34m(A, low, mid, high)\u001b[0m\n\u001b[0;32m     22\u001b[0m             \u001b[0mmax_right\u001b[0m \u001b[1;33m=\u001b[0m \u001b[0mj\u001b[0m\u001b[1;33m\u001b[0m\u001b[1;33m\u001b[0m\u001b[0m\n\u001b[0;32m     23\u001b[0m \u001b[1;33m\u001b[0m\u001b[0m\n\u001b[1;32m---> 24\u001b[1;33m     \u001b[1;32mreturn\u001b[0m \u001b[1;33m(\u001b[0m\u001b[0mmax_left\u001b[0m\u001b[1;33m,\u001b[0m \u001b[0mmax_right\u001b[0m\u001b[1;33m,\u001b[0m \u001b[0mleft_sum\u001b[0m \u001b[1;33m+\u001b[0m \u001b[0mright_sum\u001b[0m\u001b[1;33m)\u001b[0m\u001b[1;33m\u001b[0m\u001b[1;33m\u001b[0m\u001b[0m\n\u001b[0m\u001b[0;32m     25\u001b[0m \u001b[1;33m\u001b[0m\u001b[0m\n\u001b[0;32m     26\u001b[0m \u001b[1;32mdef\u001b[0m \u001b[0mmaximum_subarray\u001b[0m\u001b[1;33m(\u001b[0m\u001b[0mA\u001b[0m\u001b[1;33m,\u001b[0m \u001b[0mlow\u001b[0m\u001b[1;33m,\u001b[0m \u001b[0mhigh\u001b[0m\u001b[1;33m)\u001b[0m\u001b[1;33m:\u001b[0m\u001b[1;33m\u001b[0m\u001b[1;33m\u001b[0m\u001b[0m\n",
      "\u001b[1;31mUnboundLocalError\u001b[0m: local variable 'max_left' referenced before assignment"
     ]
    }
   ],
   "source": [
    "A = [-5,1,2,9,-5,8]\n",
    "low, high, sum = maximum_subarray(A, 0, len(A))\n",
    "print(\"Indices are (\" + low + \",\" + high + \") and sum is \" + sum)"
   ]
  },
  {
   "cell_type": "code",
   "execution_count": null,
   "id": "30214e52",
   "metadata": {},
   "outputs": [],
   "source": []
  }
 ],
 "metadata": {
  "kernelspec": {
   "display_name": "pythonDSAI",
   "language": "python",
   "name": "pythondsai"
  },
  "language_info": {
   "codemirror_mode": {
    "name": "ipython",
    "version": 3
   },
   "file_extension": ".py",
   "mimetype": "text/x-python",
   "name": "python",
   "nbconvert_exporter": "python",
   "pygments_lexer": "ipython3",
   "version": "3.8.3"
  }
 },
 "nbformat": 4,
 "nbformat_minor": 5
}
