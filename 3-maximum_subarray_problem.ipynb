{
 "cells": [
  {
   "cell_type": "markdown",
   "id": "def3ec82",
   "metadata": {},
   "source": [
    "Below is the code for the maximum-subarray problem"
   ]
  },
  {
   "cell_type": "code",
   "execution_count": 22,
   "id": "d11f2af2",
   "metadata": {},
   "outputs": [],
   "source": [
    "import math\n",
    "\n",
    "def max_crossing_subarray(A, low, mid, high):\n",
    "#     print(\"Finding cross sum : low, mid, high\",low, mid, high)\n",
    "    left_sum = -math.inf\n",
    "    sum = 0\n",
    "\n",
    "    for i in range(mid, low-1, -1):\n",
    "        sum = sum + A[i]\n",
    "        if sum > left_sum:\n",
    "            left_sum = sum\n",
    "            max_left = i\n",
    "    right_sum = -math.inf\n",
    "    sum = 0\n",
    "    for j in range(mid + 1, high + 1):\n",
    "        sum = sum + A[j]\n",
    "        if sum > right_sum:\n",
    "            right_sum = sum\n",
    "            max_right = j\n",
    "            \n",
    "    return (max_left, max_right, left_sum + right_sum)\n",
    "\n",
    "def maximum_subarray(A, low, high):\n",
    "    \n",
    "    if high == low:\n",
    "        return (low, high, A[low])\n",
    "    else: \n",
    "        mid = math.floor((low + high)/2)\n",
    "        left_low, left_high, left_sum = maximum_subarray(A, low, mid)\n",
    "        right_low, right_high, right_sum = maximum_subarray(A, mid + 1, high)\n",
    "        cross_low, cross_high, cross_sum = max_crossing_subarray(A, low, mid, high)\n",
    "        \n",
    "        if left_sum >= right_sum and left_sum >= cross_sum:\n",
    "            return (left_low, left_high, left_sum)\n",
    "        elif right_sum >= left_sum and right_sum >= cross_sum:\n",
    "            return (right_low, right_high, right_sum)\n",
    "        else:\n",
    "            return (cross_low, cross_high, cross_sum)\n",
    "        \n"
   ]
  },
  {
   "cell_type": "code",
   "execution_count": 23,
   "id": "5b3f4667",
   "metadata": {},
   "outputs": [
    {
     "name": "stdout",
     "output_type": "stream",
     "text": [
      "low index : 7\n",
      "high index : 10\n",
      "Maximum sub Array sum : 43\n"
     ]
    }
   ],
   "source": [
    "A = [13,-3,-25,20,-3,-16,-23,18,20,-7,12,-5,-22,15,-4,7]\n",
    "low, high, sum_ = maximum_subarray(A, 0, len(A)-1)\n",
    "print(\"low index :\",low)\n",
    "print(\"high index :\",high)\n",
    "print(\"Maximum sub Array sum :\",sum_)"
   ]
  },
  {
   "cell_type": "markdown",
   "id": "6f45a6f6",
   "metadata": {},
   "source": [
    "Plotting graph for actual time spent for maximum subarray algorithm vs list length(n) and theoritical time taken vs list length(n)"
   ]
  },
  {
   "cell_type": "code",
   "execution_count": 25,
   "id": "90592728",
   "metadata": {},
   "outputs": [
    {
     "data": {
      "image/png": "[encoded data removed]",
      "text/plain": [
       "<Figure size 432x288 with 1 Axes>"
      ]
     },
     "metadata": {
      "needs_background": "light"
     },
     "output_type": "display_data"
    }
   ],
   "source": [
    "import time\n",
    "import numpy as np\n",
    "import matplotlib.pyplot as plt\n",
    "\n",
    "c = 1/500000\n",
    "lists = []\n",
    "time_spent = []\n",
    "y_list = []\n",
    "\n",
    "for i in range(1,5):\n",
    "    np.random.seed(12)\n",
    "    \n",
    "    n=10**i\n",
    "    a = np.random.randint(-1000 * i, 1000 * i, n)\n",
    "    start_time = time.process_time()\n",
    "    maximum_subarray(a, 0, len(a)-1)\n",
    "    end_time = time.process_time()\n",
    "    \n",
    "    lists.append(len(a))\n",
    "    time_spent.append(end_time-start_time)\n",
    "    y = c * n * np.log(n)\n",
    "    y_list.append(y)\n",
    "    \n",
    "# print(lists)\n",
    "# print(time_spent)\n",
    "plt.xlabel('List length (n)')\n",
    "plt.ylabel('Time taken')\n",
    "plt.plot(lists, time_spent, label ='Maximum Subarray actual time spent ')\n",
    "plt.plot(lists, y_list, label = \"Theoritical complexity\")\n",
    "plt.grid()\n",
    "plt.legend()\n",
    "plt.show()"
   ]
  },
  {
   "cell_type": "markdown",
   "id": "6aa7dc86",
   "metadata": {},
   "source": [
    "From the graph plotted for actual time spent vs list length(n) and theoritical time complexity vs list length(n), we can see that they have similar increasing pattern. The actual time is close to theoritical time so this indicates that the actual time complexity is indeed O(nlog(n)) as in theory."
   ]
  }
 ],
 "metadata": {
  "kernelspec": {
   "display_name": "pythonDSAI",
   "language": "python",
   "name": "pythondsai"
  },
  "language_info": {
   "codemirror_mode": {
    "name": "ipython",
    "version": 3
   },
   "file_extension": ".py",
   "mimetype": "text/x-python",
   "name": "python",
   "nbconvert_exporter": "python",
   "pygments_lexer": "ipython3",
   "version": "3.8.3"
  }
 },
 "nbformat": 4,
 "nbformat_minor": 5
}
