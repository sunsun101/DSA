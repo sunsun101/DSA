{
 "cells": [
  {
   "cell_type": "markdown",
   "id": "ca3d71f7",
   "metadata": {},
   "source": [
    "Implementation of Heapsort"
   ]
  },
  {
   "cell_type": "code",
   "execution_count": 70,
   "id": "93727d17",
   "metadata": {},
   "outputs": [],
   "source": [
    "import math\n",
    "\n",
    "def left(i):\n",
    "    return 2*i + 1\n",
    "\n",
    "def right(i):\n",
    "    return 2*i + 2;\n",
    "\n",
    "def max_heapify(A, i, heap_size):\n",
    "    l = left(i)\n",
    "    r = right(i)\n",
    "    \n",
    "    if l < heap_size and A[l]> A[i]:\n",
    "        largest = l\n",
    "    else:\n",
    "        largest = i\n",
    "    if r < heap_size and A[r]>A[largest]:\n",
    "        largest = r\n",
    "        \n",
    "    if largest != i:\n",
    "#         print(\"swapping \", A[i], \"with\",A[largest])\n",
    "        A[i], A[largest] = A[largest], A[i]\n",
    "        max_heapify(A, largest, heap_size)\n",
    "        \n",
    "def build_max_heap(A, heap_size):\n",
    "    \n",
    "    for i in range(math.floor(len(A)/2) - 1 , -1, -1):\n",
    "        max_heapify(A, i, heap_size)\n",
    "        \n",
    "def heap_sort(A):\n",
    "    heap_size = len(A)\n",
    "    build_max_heap(A, heap_size)\n",
    "    for i in range(heap_size - 1, -1, -1):\n",
    "        A[0], A[i] = A[i], A[0]\n",
    "#         print(\"swapping \", A[0], \"with\",A[i])\n",
    "        max_heapify(A,0,i)"
   ]
  },
  {
   "cell_type": "code",
   "execution_count": 73,
   "id": "6810a876",
   "metadata": {},
   "outputs": [
    {
     "name": "stdout",
     "output_type": "stream",
     "text": [
      "Sorted array is [-1, 2, 3, 3, 7, 13, 34, 38, 45, 65, 67, 89, 356, 4546]\n"
     ]
    }
   ],
   "source": [
    "A=[45,3,67,-1,3,356,2,7,89,34,65,13,4546,38]\n",
    "heap_sort(A)\n",
    "print(\"Sorted array is\", A)"
   ]
  },
  {
   "cell_type": "markdown",
   "id": "1ee043b5",
   "metadata": {},
   "source": [
    "Implementation of Quicksort"
   ]
  },
  {
   "cell_type": "code",
   "execution_count": 89,
   "id": "c2c7353d",
   "metadata": {},
   "outputs": [],
   "source": [
    "def partition(A,p,r):\n",
    "    x = A[r]\n",
    "#     print(\"x:\",x)\n",
    "    i = p - 1\n",
    "    \n",
    "    for j in range(p,r):\n",
    "        if A[j] <= x:\n",
    "            i =  i + 1\n",
    "            A[i],A[j] = A[j],A[i]\n",
    "    A[i + 1], A[r] = A[r], A[i + 1]\n",
    "    return i+1\n",
    "\n",
    "def quick_sort(A,p,r):\n",
    "#     print(\"p: \", p)\n",
    "#     print(\"r: \", r)\n",
    "    if p<r:\n",
    "        q = partition(A,p,r)\n",
    "        quick_sort(A,p,q-1)\n",
    "        quick_sort(A,q+1,r)"
   ]
  },
  {
   "cell_type": "code",
   "execution_count": 91,
   "id": "1c0351f1",
   "metadata": {},
   "outputs": [
    {
     "name": "stdout",
     "output_type": "stream",
     "text": [
      "Sorted array is [1, 2, 4, 5, 7, 56]\n"
     ]
    }
   ],
   "source": [
    "A=[45,3,67,-1,3,356,2,7,89,34,65,13,4546,38]\n",
    "quick_sort(A,0,len(A)-1)\n",
    "print(\"Sorted array is\", A)"
   ]
  }
 ],
 "metadata": {
  "kernelspec": {
   "display_name": "Python 3 (ipykernel)",
   "language": "python",
   "name": "python3"
  },
  "language_info": {
   "codemirror_mode": {
    "name": "ipython",
    "version": 3
   },
   "file_extension": ".py",
   "mimetype": "text/x-python",
   "name": "python",
   "nbconvert_exporter": "python",
   "pygments_lexer": "ipython3",
   "version": "3.8.3"
  }
 },
 "nbformat": 4,
 "nbformat_minor": 5
}
