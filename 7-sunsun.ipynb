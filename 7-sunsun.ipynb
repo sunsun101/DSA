{
 "cells": [
  {
   "cell_type": "markdown",
   "id": "67cffe8b",
   "metadata": {},
   "source": [
    "7. Use stacks to check integrity of parenthesis"
   ]
  },
  {
   "cell_type": "code",
   "execution_count": 25,
   "id": "4c2eba86",
   "metadata": {
    "scrolled": true
   },
   "outputs": [],
   "source": [
    "class Stack:\n",
    "    def __init__(self):\n",
    "        self.array = []\n",
    "    \n",
    "    def is_empty(self):\n",
    "        return False if len(self.array) else True\n",
    "        \n",
    "    def push(self, element):\n",
    "        self.array.append(element)\n",
    "        \n",
    "    def pop(self):\n",
    "        return self.array.pop() if not self.is_empty() else None\n",
    "    \n",
    "    def get_top(self):\n",
    "        return self.array[-1]\n",
    "    \n",
    "    \n",
    "def check_integrity(expression):\n",
    "    stack = Stack()\n",
    "    \n",
    "    opening_brackets = ['[','{','(']\n",
    "    closing_brackets = [']','}',')']\n",
    "    \n",
    "    for c in expression:\n",
    "        if c in opening_brackets:\n",
    "            stack.push(c)\n",
    "        elif c in closing_brackets:\n",
    "            if not stack.is_empty() and opening_brackets.index(stack.get_top()) == closing_brackets.index(c):\n",
    "                stack.pop()\n",
    "            else:\n",
    "                print(\"Issue with parenthesis!\")\n",
    "                return\n",
    "        else:\n",
    "            #pass if the input character is not bracket\n",
    "            pass\n",
    "        \n",
    "    print(\"Success, parenthesis are correct.\") if stack.is_empty() else print(\"Issue with parenthesis, missing closing bracket!\")\n",
    "        "
   ]
  },
  {
   "cell_type": "code",
   "execution_count": 28,
   "id": "2bf9c850",
   "metadata": {},
   "outputs": [
    {
     "name": "stdout",
     "output_type": "stream",
     "text": [
      "Input0==>\n",
      "Issue with parenthesis, missing closing bracket!\n",
      "Input1==>\n",
      "Success, parenthesis are correct.\n",
      "Input2==>\n",
      "Issue with parenthesis!\n",
      "Input3==>\n",
      "Success, parenthesis are correct.\n",
      "Input4==>\n",
      "Issue with parenthesis!\n"
     ]
    }
   ],
   "source": [
    "input = ['[{(a*b)/10}%2','[{{(a+b)/(a-b)}%3}+(a+3)]','[{()}(){}{)]','[{(())()}{{{()}}}]','[{(){(}}]']\n",
    "\n",
    "for idx, value in enumerate(input):\n",
    "    print(\"Input\"+str(idx)+'==>')\n",
    "    check_integrity(value)"
   ]
  },
  {
   "cell_type": "markdown",
   "id": "e5147a4b",
   "metadata": {},
   "source": [
    "Implementation using Dequeue(double ended queue)"
   ]
  },
  {
   "cell_type": "code",
   "execution_count": 111,
   "id": "7f48f6bf",
   "metadata": {},
   "outputs": [],
   "source": [
    "class Queue:\n",
    "    def __init__(self):\n",
    "        self.Q = []\n",
    "        self.head = 0\n",
    "        self.tail = 0\n",
    "        \n",
    "    def enqueue(self,value):\n",
    "        self.Q.append(value)\n",
    "        self.tail = self.tail + 1\n",
    "        \n",
    "    def dequeue_left(self):\n",
    "        value = self.Q[self.head]\n",
    "        self.head = self.head + 1\n",
    "        return value\n",
    "    \n",
    "    def dequeue_right(self):\n",
    "        value = self.Q.pop()\n",
    "        self.tail = self.tail - 1\n",
    "        return value\n",
    "    \n",
    "    def is_empty(self):\n",
    "        return(len(self.Q) == 0)\n",
    "    \n",
    "def check_integrity_q(expression):\n",
    "    q = Queue()\n",
    "    \n",
    "    opening_brackets = ['[','{','(']\n",
    "    closing_brackets = [']','}',')']\n",
    "    \n",
    "    d1 = dict(zip(closing_brackets, opening_brackets))\n",
    "    \n",
    "    for c in expression:\n",
    "        if c in opening_brackets:\n",
    "            q.enqueue(c)\n",
    "        \n",
    "        elif c in closing_brackets:\n",
    "            if  q.is_empty() or d1[c] != q.dequeue_right():\n",
    "                print(\"Issue with parenthesis!\")\n",
    "                return\n",
    "        else:\n",
    "            pass\n",
    "        \n",
    "    if q.head == q.tail:\n",
    "        print(\"Success, parenthesis are correct.\")\n",
    "    else:\n",
    "        print('Issue with parenthesis, missing closing bracket!')\n",
    "            \n",
    "        \n",
    "        "
   ]
  },
  {
   "cell_type": "code",
   "execution_count": 112,
   "id": "44527bb1",
   "metadata": {},
   "outputs": [
    {
     "name": "stdout",
     "output_type": "stream",
     "text": [
      "Input0==>\n",
      "Issue with parenthesis, missing closing bracket!\n",
      "Input1==>\n",
      "Success, parenthesis are correct.\n",
      "Input2==>\n",
      "Issue with parenthesis!\n",
      "Input3==>\n",
      "Success, parenthesis are correct.\n",
      "Input4==>\n",
      "Issue with parenthesis!\n"
     ]
    }
   ],
   "source": [
    "input = ['[{(a*b)/10}%2','[{{(a+b)/(a-b)}%3}+(a+3)]','[{()}(){}{)]','[{(())()}{{{()}}}]','[{(){(}}]']\n",
    "\n",
    "for idx, value in enumerate(input):\n",
    "    print(\"Input\"+str(idx)+'==>')\n",
    "    check_integrity_q(value)"
   ]
  },
  {
   "cell_type": "code",
   "execution_count": null,
   "id": "6b2a8bba",
   "metadata": {},
   "outputs": [],
   "source": []
  }
 ],
 "metadata": {
  "kernelspec": {
   "display_name": "Python 3 (ipykernel)",
   "language": "python",
   "name": "python3"
  },
  "language_info": {
   "codemirror_mode": {
    "name": "ipython",
    "version": 3
   },
   "file_extension": ".py",
   "mimetype": "text/x-python",
   "name": "python",
   "nbconvert_exporter": "python",
   "pygments_lexer": "ipython3",
   "version": "3.8.3"
  }
 },
 "nbformat": 4,
 "nbformat_minor": 5
}
