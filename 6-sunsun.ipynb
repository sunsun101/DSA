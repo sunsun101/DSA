{
 "cells": [
  {
   "cell_type": "markdown",
   "id": "c3f73cd2",
   "metadata": {},
   "source": [
    "Implementing bucket sort"
   ]
  },
  {
   "cell_type": "code",
   "execution_count": 102,
   "id": "9f709364",
   "metadata": {},
   "outputs": [],
   "source": [
    "import math\n",
    "import numpy as np\n",
    "\n",
    "def insertion_sort(list):\n",
    "#     print(\"*** PERFORMING INSERTION SORT ***\")\n",
    "    for j in range (1, len(list)):\n",
    "        # determine the key\n",
    "        key = list[j]\n",
    "        # set i to find preceeding element\n",
    "        i = j - 1\n",
    "\n",
    "        while i >= 0 and list[i] > key:\n",
    "            # replace the suceeding element by preceeding if it is greater than key\n",
    "            list[i + 1] = list[i]\n",
    "            i = i - 1\n",
    "        list[i + 1] = key\n",
    "\n",
    "#     print(\"List Sorted in ascending order by insertion sort is :\", list)\n",
    "\n",
    "\n",
    "def bucket_sort(A):\n",
    "    \n",
    "    sorted_array = []\n",
    "    n = len(A)\n",
    "    bucket = [[] for _ in range(n)]\n",
    "    \n",
    "    for i in range(n):\n",
    "        bucket[math.floor(n * A[i]/10**len(str(A[i])))].append(A[i])\n",
    "    \n",
    "    for i in range(n):\n",
    "        insertion_sort(bucket[i])\n",
    "        sorted_array = sorted_array + bucket[i]\n",
    "    return sorted_array\n",
    "        "
   ]
  },
  {
   "cell_type": "code",
   "execution_count": 103,
   "id": "e2f746e0",
   "metadata": {},
   "outputs": [
    {
     "name": "stdout",
     "output_type": "stream",
     "text": [
      "Sorted array is: [0.13, 0.16, 0.2, 0.39, 0.42, 0.53, 0.64, 0.71, 0.79, 0.89]\n"
     ]
    }
   ],
   "source": [
    "A = [0.79, 0.13, 0.16, 0.64, 0.39, 0.20, 0.89, 0.53, 0.71, 0.42]\n",
    "# A = [9.8, 0.6, 10.1, 1.9, 3.07, 3.04, 5.0, 8.0, 4.8, 7.68]\n",
    "sorted_array = bucket_sort(A)\n",
    "print(\"Sorted array is:\", sorted_array)"
   ]
  },
  {
   "cell_type": "markdown",
   "id": "ef3b4be8",
   "metadata": {},
   "source": [
    "Implementing counting sort"
   ]
  },
  {
   "cell_type": "code",
   "execution_count": 104,
   "id": "e00cdbee",
   "metadata": {},
   "outputs": [],
   "source": [
    "def counting_sort(A):\n",
    "    k = max(A)\n",
    "    C = [None]*(k+1)\n",
    "    B = [None]*len(A)\n",
    "    \n",
    "    for i in range(k+1):\n",
    "        C[i] = 0\n",
    "    for j in range(len(A)):\n",
    "        C[A[j]] = C[A[j]] + 1\n",
    "    for i in range(1,k+1):\n",
    "        C[i] = C[i] + C[i-1]\n",
    "    for j in range(len(A)-1,-1,-1):\n",
    "        B[C[A[j]]-1] = A[j]\n",
    "        C[A[j]] = C[A[j]] - 1\n",
    "    return B\n",
    "        "
   ]
  },
  {
   "cell_type": "code",
   "execution_count": 105,
   "id": "b25a1eb8",
   "metadata": {},
   "outputs": [
    {
     "name": "stdout",
     "output_type": "stream",
     "text": [
      "Sorted Array [0, 0, 1, 1, 2, 2, 3, 3, 4, 6, 6]\n"
     ]
    }
   ],
   "source": [
    "A = [6,0,2,0,1,3,4,6,1,3,2] \n",
    "sorted_array = counting_sort(A)\n",
    "print(\"Sorted Array\", sorted_array)"
   ]
  },
  {
   "cell_type": "markdown",
   "id": "6da7e605",
   "metadata": {},
   "source": [
    "Implementing radix sort"
   ]
  },
  {
   "cell_type": "code",
   "execution_count": 106,
   "id": "4f748d76",
   "metadata": {},
   "outputs": [],
   "source": [
    "def count_sort_radix(A, d):\n",
    "    A_digits = []\n",
    "    for i in range(len(A)):\n",
    "        A_digits.append((A[i]//10**d) % 10)\n",
    "\n",
    "        \n",
    "    k = max(A_digits)\n",
    "    C = [None]*(k+1)\n",
    "    B = [None]*len(A)\n",
    "    \n",
    "    for i in range(k+1):\n",
    "        C[i] = 0\n",
    "    for j in range(len(A)):\n",
    "        C[A_digits[j]] = C[A_digits[j]] + 1\n",
    "    for i in range(1,k+1):\n",
    "        C[i] = C[i] + C[i-1]\n",
    "    for j in range(len(A)-1,-1,-1):\n",
    "        B[C[A_digits[j]]-1] = A[j]\n",
    "        C[A_digits[j]] = C[A_digits[j]] - 1\n",
    "    return B\n",
    "        \n",
    "\n",
    "def radix_sort(A):\n",
    "    d = len(str(A[0]))\n",
    "    for i in range(0,d):\n",
    "        A = count_sort_radix(A,i)\n",
    "    return A\n",
    "        "
   ]
  },
  {
   "cell_type": "code",
   "execution_count": 107,
   "id": "6564f566",
   "metadata": {},
   "outputs": [
    {
     "name": "stdout",
     "output_type": "stream",
     "text": [
      "Sorted Array: [1723, 1935, 2011, 2379, 3826, 3950, 4131, 4217, 5827, 6420, 7579, 7768, 7881, 8236, 8335, 9840]\n"
     ]
    }
   ],
   "source": [
    "# A = [329, 457,657, 839, 436, 720, 355]\n",
    "A = [3950, 1723, 7768, 7579, 2379, 4217, 2011, 8335, 5827, 7881, 1935, 6420, 9840, 3826, 8236, 4131]\n",
    "sorted_array = radix_sort(A)\n",
    "print(\"Sorted Array:\", sorted_array)"
   ]
  },
  {
   "cell_type": "code",
   "execution_count": 108,
   "id": "76849154",
   "metadata": {},
   "outputs": [],
   "source": [
    "def partition(A,p,r):\n",
    "    x = A[r]\n",
    "    i = p - 1\n",
    "    \n",
    "    for j in range(p,r):\n",
    "        if A[j] <= x:\n",
    "            i =  i + 1\n",
    "            A[i],A[j] = A[j],A[i]\n",
    "    A[i + 1], A[r] = A[r], A[i + 1]\n",
    "    return i+1\n",
    "\n",
    "def quick_sort(A,p,r):\n",
    "    if p<r:\n",
    "        q = partition(A,p,r)\n",
    "        quick_sort(A,p,q-1)\n",
    "        quick_sort(A,q+1,r)"
   ]
  },
  {
   "cell_type": "markdown",
   "id": "d23383a3",
   "metadata": {},
   "source": [
    "Plotting graph to compare the time complexity"
   ]
  },
  {
   "cell_type": "code",
   "execution_count": 109,
   "id": "eb6f87ca",
   "metadata": {},
   "outputs": [
    {
     "name": "stdout",
     "output_type": "stream",
     "text": [
      "[0.0, 0.0, 0.0, 0.0, 0.0, 0.0]\n",
      "[0.0, 0.0, 0.0, 0.0, 0.0, 0.0]\n",
      "[0.0, 0.0, 0.0, 0.0, 0.0, 0.0]\n"
     ]
    },
    {
     "data": {
      "image/png": "[encoded data removed]",
      "text/plain": [
       "<Figure size 432x288 with 1 Axes>"
      ]
     },
     "metadata": {
      "needs_background": "light"
     },
     "output_type": "display_data"
    }
   ],
   "source": [
    "import time\n",
    "import numpy as np\n",
    "import matplotlib.pyplot as plt\n",
    "\n",
    "digit_size = []\n",
    "bucket_sort_time = []\n",
    "radix_sort_time = []\n",
    "quick_sort_time = []\n",
    "\n",
    "\n",
    "for i in range(0,6):\n",
    "\n",
    "    array_radix = []\n",
    "    array_quick = []\n",
    "    array_bucket = []\n",
    "    \n",
    "    n=16\n",
    "    array = np.random.randint(10**i, (10**(i+1)) , n).tolist()\n",
    "    digit_size.append(i+1)\n",
    "    \n",
    "    array_radix = array\n",
    "    array_quick = array\n",
    "    array_bucket = array\n",
    "\n",
    "    #For bucket sort\n",
    "    bucket_start_time = time.time()\n",
    "    bucket_sorted_arr = bucket_sort(array)\n",
    "    bucket_end_time = time.time()\n",
    "    \n",
    "    #For radix sort\n",
    "    radix_start_time = time.time()\n",
    "    radix_sorted_array = radix_sort(array_radix)\n",
    "    radix_end_time = time.time()\n",
    "    \n",
    "\n",
    "   \n",
    "    #For quick sort\n",
    "    quick_start_time = time.time()\n",
    "    quick_sorted_array = quick_sort(array_quick, 0, len(array_quick)-1)\n",
    "    quick_end_time = time.time()\n",
    "    \n",
    "   \n",
    "    bucket_sort_time.append(bucket_end_time-bucket_start_time)\n",
    "    radix_sort_time.append(radix_end_time-radix_start_time)\n",
    "    quick_sort_time.append(quick_end_time-quick_start_time)\n",
    "    \n",
    "#     print(\"bucket sorted array\", bucket_sorted_arr)\n",
    "#     print(\"radix sorted array\", radix_sorted_array)\n",
    "#     print(\"quick sorted array\", quick_sorted_array)\n",
    "\n",
    "    \n",
    "print(bucket_sort_time)\n",
    "print(radix_sort_time)\n",
    "print(quick_sort_time)\n",
    "plt.xlabel('No of digits (n)')\n",
    "plt.ylabel('Time taken')\n",
    "plt.plot(digit_size, bucket_sort_time, label ='Bucket Sort')\n",
    "plt.plot(digit_size, radix_sort_time, label = \"Radix Sort\")\n",
    "plt.plot(digit_size, quick_sort_time, label = \"Quick Sort\")\n",
    "plt.grid()\n",
    "plt.legend()\n",
    "plt.show()"
   ]
  },
  {
   "cell_type": "code",
   "execution_count": null,
   "id": "f6a1d71f",
   "metadata": {},
   "outputs": [],
   "source": []
  }
 ],
 "metadata": {
  "kernelspec": {
   "display_name": "Python 3 (ipykernel)",
   "language": "python",
   "name": "python3"
  },
  "language_info": {
   "codemirror_mode": {
    "name": "ipython",
    "version": 3
   },
   "file_extension": ".py",
   "mimetype": "text/x-python",
   "name": "python",
   "nbconvert_exporter": "python",
   "pygments_lexer": "ipython3",
   "version": "3.8.3"
  }
 },
 "nbformat": 4,
 "nbformat_minor": 5
}
